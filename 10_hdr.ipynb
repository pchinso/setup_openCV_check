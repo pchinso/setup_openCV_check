{
  "cells": [
    {
      "cell_type": "markdown",
      "metadata": {
        "id": "069Tq96ie-54"
      },
      "source": [
        "# High Dynamic Range (HDR) Imaging\n",
        "\n",
        "**Satya Mallick, LearnOpenCV.com**"
      ]
    },
    {
      "cell_type": "markdown",
      "metadata": {
        "id": "sSguiA5we-6C"
      },
      "source": [
        "![\"HDR Image Example\"](https://learnopencv.com/wp-content/uploads/2023/03/opencv_bootcamp_10_high-dynamic-range-hdr.jpg)"
      ]
    },
    {
      "cell_type": "code",
      "execution_count": null,
      "metadata": {
        "ExecuteTime": {
          "end_time": "2023-03-29T19:29:44.845632Z",
          "start_time": "2023-03-29T19:29:44.174282Z"
        },
        "id": "Xsy6XfzMe-6D"
      },
      "outputs": [],
      "source": [
        "# Import Libraries\n",
        "import os\n",
        "import cv2\n",
        "import numpy as np\n",
        "import matplotlib.pyplot as plt\n",
        "\n",
        "from zipfile import ZipFile\n",
        "from urllib.request import urlretrieve\n",
        "\n",
        "%matplotlib inline"
      ]
    },
    {
      "cell_type": "markdown",
      "metadata": {
        "id": "TSIQB8IWe-6F"
      },
      "source": [
        "##  <font style=\"color:black\">Download Assets</font>"
      ]
    },
    {
      "cell_type": "code",
      "execution_count": null,
      "metadata": {
        "ExecuteTime": {
          "end_time": "2023-03-29T19:29:44.861632Z",
          "start_time": "2023-03-29T19:29:44.848636Z"
        },
        "id": "O1amLVUAe-6G"
      },
      "outputs": [],
      "source": [
        "def download_and_unzip(url, save_path):\n",
        "    print(f\"Downloading and extracting assests....\", end=\"\")\n",
        "\n",
        "    # Downloading zip file using urllib package.\n",
        "    urlretrieve(url, save_path)\n",
        "\n",
        "    try:\n",
        "        # Extracting zip file using the zipfile package.\n",
        "        with ZipFile(save_path) as z:\n",
        "            # Extract ZIP file contents in the same directory.\n",
        "            z.extractall(os.path.split(save_path)[0])\n",
        "\n",
        "        print(\"Done\")\n",
        "\n",
        "    except Exception as e:\n",
        "        print(\"\\nInvalid file.\", e)"
      ]
    },
    {
      "cell_type": "code",
      "execution_count": null,
      "metadata": {
        "ExecuteTime": {
          "end_time": "2023-03-29T19:29:50.969547Z",
          "start_time": "2023-03-29T19:29:44.864637Z"
        },
        "id": "zI2XpCA6e-6H",
        "outputId": "a2ca5ed6-e283-4061-b57c-6e1e2d3c1b4b"
      },
      "outputs": [],
      "source": [
        "URL = r\"https://www.dropbox.com/s/qa1hsyxt66pvj02/opencv_bootcamp_assets_NB10.zip?dl=1\"\n",
        "\n",
        "asset_zip_path = os.path.join(os.getcwd(), \"opencv_bootcamp_assets_NB10.zip\")\n",
        "\n",
        "# Download if assest ZIP does not exists.\n",
        "if not os.path.exists(asset_zip_path):\n",
        "    download_and_unzip(URL, asset_zip_path)"
      ]
    },
    {
      "cell_type": "markdown",
      "metadata": {
        "id": "WGoInvGXe-6J"
      },
      "source": [
        "# Basic Idea\n",
        "\n",
        "1. The **dynamic range** of images is limited to 8-bits (0 - 255) per channel\n",
        "2. Very bright pixels saturate to 255\n",
        "3. Very dark pixels clip to 0"
      ]
    },
    {
      "cell_type": "markdown",
      "metadata": {
        "id": "NRHfqQ4Ee-6K"
      },
      "source": [
        "# Step 1: Capture Multiple Exposures\n",
        "\n",
        "![\"HDR Image Sequence\"](https://learnopencv.com/wp-content/uploads/2023/03/opencv_bootcamp_10_hdr-image-sequence.jpg)"
      ]
    },
    {
      "cell_type": "code",
      "execution_count": null,
      "metadata": {
        "ExecuteTime": {
          "end_time": "2023-03-29T19:29:50.984542Z",
          "start_time": "2023-03-29T19:29:50.972531Z"
        },
        "id": "ApfJ7zbje-6L"
      },
      "outputs": [],
      "source": [
        "def readImagesAndTimes():\n",
        "    # List of file names\n",
        "    filenames = [\"img_0.033.jpg\", \"img_0.25.jpg\", \"img_2.5.jpg\", \"img_15.jpg\"]\n",
        "\n",
        "    # List of exposure times\n",
        "    times = np.array([1 / 30.0, 0.25, 2.5, 15.0], dtype=np.float32)\n",
        "\n",
        "    # Read images\n",
        "    images = []\n",
        "    for filename in filenames:\n",
        "        im = cv2.imread(filename)\n",
        "        im = cv2.cvtColor(im, cv2.COLOR_BGR2RGB)\n",
        "        images.append(im)\n",
        "\n",
        "    return images, times"
      ]
    },
    {
      "cell_type": "markdown",
      "metadata": {
        "id": "4dbAXMwHe-6M"
      },
      "source": [
        "# Step 2: Align Images\n",
        "\n",
        "![Aligned vs. Unaligned](https://learnopencv.com/wp-content/uploads/2023/03/opencv_bootcamp_10_aligned-unaligned-hdr-comparison.jpg)"
      ]
    },
    {
      "cell_type": "code",
      "execution_count": null,
      "metadata": {
        "ExecuteTime": {
          "end_time": "2023-03-29T19:29:51.868547Z",
          "start_time": "2023-03-29T19:29:50.986529Z"
        },
        "id": "oZsNAF5he-6N"
      },
      "outputs": [],
      "source": [
        "# Read images and exposure times\n",
        "images, times = readImagesAndTimes()\n",
        "\n",
        "# Align Images\n",
        "alignMTB = cv2.createAlignMTB()\n",
        "alignMTB.process(images, images)"
      ]
    },
    {
      "cell_type": "markdown",
      "metadata": {
        "id": "7Jhs2pHYe-6N"
      },
      "source": [
        "# Step 3: Estimate Camera Response Function"
      ]
    },
    {
      "cell_type": "code",
      "execution_count": null,
      "metadata": {
        "ExecuteTime": {
          "end_time": "2023-03-29T19:29:53.355530Z",
          "start_time": "2023-03-29T19:29:51.870522Z"
        },
        "id": "uScpyxCIe-6O",
        "outputId": "8b1d2c6a-fbd8-46ec-99ff-a539c19704c4"
      },
      "outputs": [],
      "source": [
        "# Find Camera Response Function (CRF)\n",
        "calibrateDebevec = cv2.createCalibrateDebevec()\n",
        "responseDebevec = calibrateDebevec.process(images, times)\n",
        "\n",
        "# Plot CRF\n",
        "x = np.arange(256, dtype=np.uint8)\n",
        "y = np.squeeze(responseDebevec)\n",
        "\n",
        "ax = plt.figure(figsize=(30, 10))\n",
        "plt.title(\"Debevec Inverse Camera Response Function\", fontsize=24)\n",
        "plt.xlabel(\"Measured Pixel Value\", fontsize=22)\n",
        "plt.ylabel(\"Calibrated Intensity\", fontsize=22)\n",
        "plt.xlim([0, 260])\n",
        "plt.grid()\n",
        "plt.plot(x, y[:, 0], \"r\", x, y[:, 1], \"g\", x, y[:, 2], \"b\")"
      ]
    },
    {
      "cell_type": "markdown",
      "metadata": {
        "id": "JomO6OnRe-6O"
      },
      "source": [
        "# Step 4: Merge Exposure into an HDR Image"
      ]
    },
    {
      "cell_type": "code",
      "execution_count": null,
      "metadata": {
        "ExecuteTime": {
          "end_time": "2023-03-29T19:29:53.920523Z",
          "start_time": "2023-03-29T19:29:53.357525Z"
        },
        "id": "_pkplzl8e-6P"
      },
      "outputs": [],
      "source": [
        "# Merge images into an HDR linear image\n",
        "mergeDebevec = cv2.createMergeDebevec()\n",
        "hdrDebevec = mergeDebevec.process(images, times, responseDebevec)"
      ]
    },
    {
      "cell_type": "markdown",
      "metadata": {
        "id": "f1OvC-VGe-6P"
      },
      "source": [
        "# Step 5: Tonemapping\n",
        "\n",
        "Many Tonemapping algorithms are available in OpenCV. We chose Durand as it has more controls."
      ]
    },
    {
      "cell_type": "code",
      "execution_count": null,
      "metadata": {
        "ExecuteTime": {
          "end_time": "2023-03-29T19:29:55.676547Z",
          "start_time": "2023-03-29T19:29:53.922533Z"
        },
        "id": "nMwGyvxWe-6P",
        "outputId": "3e32a00c-a324-491f-96e1-12c0997204bd"
      },
      "outputs": [],
      "source": [
        "# Tonemap using Drago's method to obtain 24-bit color image\n",
        "tonemapDrago = cv2.createTonemapDrago(1.0, 0.7)\n",
        "ldrDrago = tonemapDrago.process(hdrDebevec)\n",
        "ldrDrago = 3 * ldrDrago\n",
        "\n",
        "plt.figure(figsize=(20, 10));plt.imshow(np.clip(ldrDrago, 0, 1));plt.axis(\"off\")\n",
        "\n",
        "cv2.imwrite(\"ldr-Drago.jpg\", ldrDrago * 255)\n",
        "print(\"saved ldr-Drago.jpg\")"
      ]
    },
    {
      "cell_type": "code",
      "execution_count": null,
      "metadata": {
        "ExecuteTime": {
          "end_time": "2023-03-29T19:29:57.505532Z",
          "start_time": "2023-03-29T19:29:55.680527Z"
        },
        "id": "VLJtJn2Me-6Q",
        "outputId": "7fbecb07-33af-420a-cb4b-49d7779accf5"
      },
      "outputs": [],
      "source": [
        "# Tonemap using Reinhard's method to obtain 24-bit color image\n",
        "print(\"Tonemaping using Reinhard's method ... \")\n",
        "tonemapReinhard = cv2.createTonemapReinhard(1.5, 0, 0, 0)\n",
        "ldrReinhard = tonemapReinhard.process(hdrDebevec)\n",
        "\n",
        "plt.figure(figsize=(20, 10));plt.imshow(np.clip(ldrReinhard, 0, 1));plt.axis(\"off\")\n",
        "\n",
        "cv2.imwrite(\"ldr-Reinhard.jpg\", ldrReinhard * 255)\n",
        "print(\"saved ldr-Reinhard.jpg\")"
      ]
    },
    {
      "cell_type": "code",
      "execution_count": null,
      "metadata": {
        "ExecuteTime": {
          "end_time": "2023-03-29T19:30:01.162548Z",
          "start_time": "2023-03-29T19:29:57.507533Z"
        },
        "id": "9CjH7mCHe-6R",
        "outputId": "0e44b128-7368-4cbc-ff3c-4598ff891d44"
      },
      "outputs": [],
      "source": [
        "# Tonemap using Mantiuk's method to obtain 24-bit color image\n",
        "print(\"Tonemaping using Mantiuk's method ... \")\n",
        "tonemapMantiuk = cv2.createTonemapMantiuk(2.2, 0.85, 1.2)\n",
        "ldrMantiuk = tonemapMantiuk.process(hdrDebevec)\n",
        "ldrMantiuk = 3 * ldrMantiuk\n",
        "\n",
        "plt.figure(figsize=(20, 10));plt.imshow(np.clip(ldrMantiuk, 0, 1));plt.axis(\"off\")\n",
        "\n",
        "cv2.imwrite(\"ldr-Mantiuk.jpg\", ldrMantiuk * 255)\n",
        "print(\"saved ldr-Mantiuk.jpg\")"
      ]
    }
  ],
  "metadata": {
    "celltoolbar": "Slideshow",
    "colab": {
      "provenance": []
    },
    "kernelspec": {
      "display_name": "Python 3 (ipykernel)",
      "language": "python",
      "name": "python3"
    },
    "language_info": {
      "codemirror_mode": {
        "name": "ipython",
        "version": 3
      },
      "file_extension": ".py",
      "mimetype": "text/x-python",
      "name": "python",
      "nbconvert_exporter": "python",
      "pygments_lexer": "ipython3",
      "version": "3.10.9"
    },
    "toc": {
      "base_numbering": 1,
      "nav_menu": {},
      "number_sections": false,
      "sideBar": true,
      "skip_h1_title": false,
      "title_cell": "Table of Contents",
      "title_sidebar": "Contents",
      "toc_cell": false,
      "toc_position": {
        "height": "calc(100% - 180px)",
        "left": "10px",
        "top": "150px",
        "width": "159.492px"
      },
      "toc_section_display": true,
      "toc_window_display": false
    },
    "varInspector": {
      "cols": {
        "lenName": 16,
        "lenType": 16,
        "lenVar": 40
      },
      "kernels_config": {
        "python": {
          "delete_cmd_postfix": "",
          "delete_cmd_prefix": "del ",
          "library": "var_list.py",
          "varRefreshCmd": "print(var_dic_list())"
        },
        "r": {
          "delete_cmd_postfix": ") ",
          "delete_cmd_prefix": "rm(",
          "library": "var_list.r",
          "varRefreshCmd": "cat(var_dic_list()) "
        }
      },
      "types_to_exclude": [
        "module",
        "function",
        "builtin_function_or_method",
        "instance",
        "_Feature"
      ],
      "window_display": false
    }
  },
  "nbformat": 4,
  "nbformat_minor": 0
}

{
  "cells": [
    {
      "cell_type": "markdown",
      "metadata": {
        "id": "0bDArSwJeyZh"
      },
      "source": [
        "# <font style=\"color:black\">Annotating Images</font>\n",
        "\n",
        "In this notebook we will cover how to annotate images using OpenCV. We will learn how to peform the following annotations to images.\n",
        "\n",
        "* Draw lines\n",
        "* Draw circles\n",
        "* Draw rectangles\n",
        "* Add text\n",
        "\n",
        "These are useful when you want to annotate your results for presentations or show a demo of your application. Annotations can also be useful during development and debugging."
      ]
    },
    {
      "cell_type": "code",
      "execution_count": null,
      "metadata": {
        "ExecuteTime": {
          "end_time": "2023-03-29T19:17:41.382883Z",
          "start_time": "2023-03-29T19:17:40.741885Z"
        },
        "id": "EmJ-1V4aeyZx"
      },
      "outputs": [],
      "source": [
        "# Import libraries\n",
        "import os\n",
        "import cv2\n",
        "import matplotlib\n",
        "import numpy as np\n",
        "import matplotlib.pyplot as plt\n",
        "\n",
        "from zipfile import ZipFile\n",
        "from urllib.request import urlretrieve\n",
        "\n",
        "matplotlib.rcParams['figure.figsize'] = (9.0, 9.0)\n",
        "\n",
        "%matplotlib inline"
      ]
    },
    {
      "cell_type": "markdown",
      "metadata": {
        "id": "3YRfcA4TeyZz"
      },
      "source": [
        "##  <font style=\"color:black\">Download Assets</font>"
      ]
    },
    {
      "cell_type": "code",
      "execution_count": null,
      "metadata": {
        "ExecuteTime": {
          "end_time": "2023-03-29T19:17:41.398880Z",
          "start_time": "2023-03-29T19:17:41.384884Z"
        },
        "id": "b_RX-YA7eyZz"
      },
      "outputs": [],
      "source": [
        "def download_and_unzip(url, save_path):\n",
        "    print(f\"Downloading and extracting assests....\", end=\"\")\n",
        "\n",
        "    # Downloading zip file using urllib package.\n",
        "    urlretrieve(url, save_path)\n",
        "\n",
        "    try:\n",
        "        # Extracting zip file using the zipfile package.\n",
        "        with ZipFile(save_path) as z:\n",
        "            # Extract ZIP file contents in the same directory.\n",
        "            z.extractall(os.path.split(save_path)[0])\n",
        "\n",
        "        print(\"Done\")\n",
        "\n",
        "    except Exception as e:\n",
        "        print(\"\\nInvalid file.\", e)"
      ]
    },
    {
      "cell_type": "code",
      "execution_count": null,
      "metadata": {
        "ExecuteTime": {
          "end_time": "2023-03-29T19:17:49.560044Z",
          "start_time": "2023-03-29T19:17:41.401883Z"
        },
        "id": "IN2OSkpgeyZ1",
        "outputId": "30929084-0362-4a8e-f551-a80d641ec5a5"
      },
      "outputs": [],
      "source": [
        "URL = r\"https://www.dropbox.com/s/48hboi1m4crv1tl/opencv_bootcamp_assets_NB3.zip?dl=1\"\n",
        "\n",
        "asset_zip_path = os.path.join(os.getcwd(), \"opencv_bootcamp_assets_NB3.zip\")\n",
        "\n",
        "# Download if assest ZIP does not exists.\n",
        "if not os.path.exists(asset_zip_path):\n",
        "    download_and_unzip(URL, asset_zip_path)"
      ]
    },
    {
      "cell_type": "code",
      "execution_count": null,
      "metadata": {
        "ExecuteTime": {
          "end_time": "2023-03-29T19:17:49.925053Z",
          "start_time": "2023-03-29T19:17:49.563033Z"
        },
        "id": "plQ3OQfzeyZ3",
        "outputId": "47171a9a-a3ec-4f46-91e3-0fcd4845c538",
        "scrolled": false
      },
      "outputs": [],
      "source": [
        "# Read in an image\n",
        "image = cv2.imread(\"Apollo_11_Launch.jpg\", cv2.IMREAD_COLOR)\n",
        "\n",
        "# Display the original image\n",
        "plt.imshow(image[:, :, ::-1])"
      ]
    },
    {
      "cell_type": "markdown",
      "metadata": {
        "id": "5Rko3BFMeyZ5"
      },
      "source": [
        "## <font style=\"color:black\">Drawing a Line</font>\n",
        "\n",
        "\n",
        "Let's start off by drawing a line on an image. We will use cv2.line function for this.\n",
        "\n",
        "### <font style=\"color:rgb(8,133,37)\">Function Syntx</font>\n",
        "``` python\n",
        "    img = cv2.line(img, pt1, pt2, color[, thickness[, lineType[, shift]]])\n",
        "```\n",
        "\n",
        "`img`: The output image that has been annotated.\n",
        "\n",
        "The function has **4 required arguments**:\n",
        "\n",
        "1. `img`:   Image on which we will draw a line\n",
        "\n",
        "2. `pt1`:   First point(x,y location) of the line segment\n",
        "\n",
        "3. `pt2`:   Second point of the line segment\n",
        "\n",
        "4. `color`: Color of the line which will be drawn\n",
        "    \n",
        "Other optional arguments that are important for us to know include:\n",
        "\n",
        "1. `thickness`: Integer specifying the line thickness. Default value is 1.\n",
        "\n",
        "2. `lineType`:  Type of the line. Default value is 8 which stands for an 8-connected line. Usually, cv2.LINE_AA (antialiased or smooth line) is used for the lineType.\n",
        "    \n",
        "### <font style=\"color:rgb(8,133,37)\">OpenCV Documentation</font>\n",
        "\n",
        "**`line`**: <a href=\"https://docs.opencv.org/4.5.1/d6/d6e/group__imgproc__draw.html#ga7078a9fae8c7e7d13d24dac2520ae4a2\" target=\"_blank\">Documentation link</a>\n",
        "\n",
        "Let's see an example of this."
      ]
    },
    {
      "cell_type": "code",
      "execution_count": null,
      "metadata": {
        "ExecuteTime": {
          "end_time": "2023-03-29T19:17:50.240034Z",
          "start_time": "2023-03-29T19:17:49.927034Z"
        },
        "id": "uiu6NZzneyZ7",
        "outputId": "97f54d4d-e314-48fc-cefe-489e7fc48c6a"
      },
      "outputs": [],
      "source": [
        "imageLine = image.copy()\n",
        "\n",
        "# The line starts from (200,100) and ends at (400,100)\n",
        "# The color of the line is YELLOW (Recall that OpenCV uses BGR format)\n",
        "# Thickness of line is 5px\n",
        "# Linetype is cv2.LINE_AA\n",
        "\n",
        "cv2.line(imageLine, (200, 100), (400, 100), (0, 255, 255), thickness=5, lineType=cv2.LINE_AA);\n",
        "\n",
        "# Display the image\n",
        "plt.imshow(imageLine[:,:,::-1])"
      ]
    },
    {
      "cell_type": "markdown",
      "metadata": {
        "id": "KVR7ZiiSeyZ7"
      },
      "source": [
        "## <font style=\"color:black\">Drawing a Circle</font>\n",
        "\n",
        "\n",
        "Let's start off by drawing a circle on an image. We will use cv2.circle function for this.\n",
        "\n",
        "### <font style=\"color:rgb(8,133,37)\">Functional syntx</font>\n",
        "``` python\n",
        "img = cv2.circle(img, center, radius, color[, thickness[, lineType[, shift]]])\n",
        "```\n",
        "\n",
        "`img`: The output image that has been annotated.\n",
        "\n",
        "The function has **4 required arguments**:\n",
        "\n",
        "1. `img`:    Image on which we will draw a line\n",
        "\n",
        "2. `center`: Center of the circle\n",
        "\n",
        "3. `radius`: Radius of the circle\n",
        "\n",
        "4. `color`:  Color of the circle which will be drawn\n",
        "    \n",
        "Next, let's check out the (optional) arguments which we are going to use quite extensively.\n",
        "\n",
        "1. `thickness`: Thickness of the circle outline (if positive).\n",
        "If a negative value is supplied for this argument, it will result in a filled circle.\n",
        "\n",
        "2. `lineType`:  Type of the circle boundary. This is exact same as lineType argument in **cv2.line**\n",
        "    \n",
        "### <font style=\"color:rgb(8,133,37)\">OpenCV Documentation</font>\n",
        "    \n",
        "**`circle`**: <a href=\"https://docs.opencv.org/4.5.1/d6/d6e/group__imgproc__draw.html#gaf10604b069374903dbd0f0488cb43670\" target=\"_blank\">Documentation link</a>\n",
        "\n",
        "Let's see an example of this."
      ]
    },
    {
      "cell_type": "code",
      "execution_count": null,
      "metadata": {
        "ExecuteTime": {
          "end_time": "2023-03-29T19:17:50.557044Z",
          "start_time": "2023-03-29T19:17:50.243028Z"
        },
        "id": "jwsox8KHeyZ8",
        "outputId": "d6a143c5-7e8d-4c6a-9d3b-64d8e4c69b82"
      },
      "outputs": [],
      "source": [
        "# Draw a circle\n",
        "imageCircle = image.copy()\n",
        "\n",
        "cv2.circle(imageCircle, (900,500), 100, (0, 0, 255), thickness=5, lineType=cv2.LINE_AA);\n",
        "\n",
        "# Display the image\n",
        "plt.imshow(imageCircle[:,:,::-1])"
      ]
    },
    {
      "cell_type": "markdown",
      "metadata": {
        "id": "MTN1-bzveyZ9"
      },
      "source": [
        "## <font style=\"color:black\">Drawing a Rectangle</font>\n",
        "\n",
        "\n",
        "We will use **cv2.rectangle** function to draw a rectangle on an image. The function syntax is as follows.\n",
        "\n",
        "### <font style=\"color:rgb(8,133,37)\">Functional syntx</font>\n",
        "\n",
        "    img = cv2.rectangle(img, pt1, pt2, color[, thickness[, lineType[, shift]]])\n",
        "\n",
        "`img`: The output image that has been annotated.\n",
        "\n",
        "The function has **4 required arguments**:\n",
        "\n",
        "1. `img`: Image on which the rectangle is to be drawn.\n",
        "\n",
        "2. `pt1`: Vertex of the rectangle. Usually we use the **top-left vertex** here.\n",
        "\n",
        "3. `pt2`: Vertex of the rectangle opposite to pt1. Usually we use the **bottom-right** vertex here.\n",
        "\n",
        "4. `color`: Rectangle color\n",
        "    \n",
        "Next, let's check out the (optional) arguments which we are going to use quite extensively.\n",
        "\n",
        "1. `thickness`: Thickness of the circle outline (if positive). If a negative value is supplied for this argument, it will result in a filled rectangle.\n",
        "\n",
        "2. `lineType`: Type of the circle boundary. This is exact same as lineType argument in\n",
        "    **cv2.line**\n",
        "    \n",
        "### <font style=\"color:rgb(8,133,37)\">OpenCV Documentation Links</font>\n",
        "\n",
        "**`rectangle`**: <a href=\"https://docs.opencv.org/4.5.1/d6/d6e/group__imgproc__draw.html#ga07d2f74cadcf8e305e810ce8eed13bc9\" target=\"_blank\">Documentation link</a>\n",
        "   \n",
        "Let's see an example of this."
      ]
    },
    {
      "cell_type": "code",
      "execution_count": null,
      "metadata": {
        "ExecuteTime": {
          "end_time": "2023-03-29T19:17:50.903028Z",
          "start_time": "2023-03-29T19:17:50.559035Z"
        },
        "id": "_v3D-d5leyZ9",
        "outputId": "f804c5f1-dd9e-4de1-80dc-fb8980fba023"
      },
      "outputs": [],
      "source": [
        "# Draw a rectangle (thickness is a positive integer)\n",
        "imageRectangle = image.copy()\n",
        "\n",
        "cv2.rectangle(imageRectangle, (500, 100), (700, 600), (255, 0, 255), thickness=5, lineType=cv2.LINE_8)\n",
        "\n",
        "# Display the image\n",
        "plt.imshow(imageRectangle[:, :, ::-1])"
      ]
    },
    {
      "cell_type": "markdown",
      "metadata": {
        "id": "O0yCFp1BeyZ-"
      },
      "source": [
        "## <font style=\"color:black\">Adding Text</font>\n",
        "\n",
        "\n",
        "Finally, let's see how we can write some text on an image using **cv2.putText** function.\n",
        "\n",
        "### <font style=\"color:rgb(8,133,37)\">Functional syntx</font>\n",
        "\n",
        "    img = cv2.putText(img, text, org, fontFace, fontScale, color[, thickness[, lineType[, bottomLeftOrigin]]])\n",
        "\n",
        "`img`: The output image that has been annotated.\n",
        "\n",
        "The function has **6 required arguments**:\n",
        "\n",
        "1. `img`: Image on which the text has to be written.\n",
        "\n",
        "2. `text`: Text string to be written.\n",
        "\n",
        "3. `org`: Bottom-left corner of the text string in the image.\n",
        "\n",
        "4. `fontFace`: Font type\n",
        "\n",
        "5. `fontScale`: Font scale factor that is multiplied by the font-specific base size.\n",
        "\n",
        "6. `color`: Font color\n",
        "\n",
        "Other optional arguments that are important for us to know include:\n",
        "\n",
        "1. `thickness`: Integer specifying the line thickness for the text. Default value is 1.\n",
        "\n",
        "2. `lineType`: Type of the line. Default value is 8 which stands for an 8-connected line. Usually, cv2.LINE_AA (antialiased or smooth line) is used for the lineType.\n",
        "\n",
        "### <font style=\"color:rgb(8,133,37)\">OpenCV Documentation</font>\n",
        "\n",
        "**`putText`**: <a href=\"https://docs.opencv.org/4.5.1/d6/d6e/group__imgproc__draw.html#ga5126f47f883d730f633d74f07456c576\" target=\"_blank\">Documentation link</a>\n",
        "    \n",
        "Let's see an example of this."
      ]
    },
    {
      "cell_type": "code",
      "execution_count": null,
      "metadata": {
        "ExecuteTime": {
          "end_time": "2023-03-29T19:17:51.220033Z",
          "start_time": "2023-03-29T19:17:50.905038Z"
        },
        "id": "utQlrJxbeyZ_",
        "outputId": "17cdc5da-0b0b-48b3-cb33-74a80302a8e9"
      },
      "outputs": [],
      "source": [
        "imageText = image.copy()\n",
        "text = \"Apollo 11 Saturn V Launch, July 16, 1969\"\n",
        "fontScale = 2.3\n",
        "fontFace = cv2.FONT_HERSHEY_PLAIN\n",
        "fontColor = (0, 255, 0)\n",
        "fontThickness = 2\n",
        "\n",
        "cv2.putText(imageText, text, (200, 700), fontFace, fontScale, fontColor, fontThickness, cv2.LINE_AA);\n",
        "\n",
        "# Display the image\n",
        "plt.imshow(imageText[:, :, ::-1])"
      ]
    },
    {
      "cell_type": "markdown",
      "metadata": {
        "id": "P5gIy6VPeyaA"
      },
      "source": [
        "## Thank You!"
      ]
    }
  ],
  "metadata": {
    "celltoolbar": "Slideshow",
    "colab": {
      "provenance": []
    },
    "kernelspec": {
      "display_name": "Python 3 (ipykernel)",
      "language": "python",
      "name": "python3"
    },
    "language_info": {
      "codemirror_mode": {
        "name": "ipython",
        "version": 3
      },
      "file_extension": ".py",
      "mimetype": "text/x-python",
      "name": "python",
      "nbconvert_exporter": "python",
      "pygments_lexer": "ipython3",
      "version": "3.10.9"
    },
    "toc": {
      "base_numbering": 1,
      "nav_menu": {},
      "number_sections": false,
      "sideBar": true,
      "skip_h1_title": false,
      "title_cell": "Table of Contents",
      "title_sidebar": "Contents",
      "toc_cell": false,
      "toc_position": {
        "height": "calc(100% - 180px)",
        "left": "10px",
        "top": "150px",
        "width": "320px"
      },
      "toc_section_display": true,
      "toc_window_display": false
    },
    "varInspector": {
      "cols": {
        "lenName": 16,
        "lenType": 16,
        "lenVar": 40
      },
      "kernels_config": {
        "python": {
          "delete_cmd_postfix": "",
          "delete_cmd_prefix": "del ",
          "library": "var_list.py",
          "varRefreshCmd": "print(var_dic_list())"
        },
        "r": {
          "delete_cmd_postfix": ") ",
          "delete_cmd_prefix": "rm(",
          "library": "var_list.r",
          "varRefreshCmd": "cat(var_dic_list()) "
        }
      },
      "types_to_exclude": [
        "module",
        "function",
        "builtin_function_or_method",
        "instance",
        "_Feature"
      ],
      "window_display": false
    }
  },
  "nbformat": 4,
  "nbformat_minor": 0
}

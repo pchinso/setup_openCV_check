{
  "cells": [
    {
      "cell_type": "markdown",
      "metadata": {
        "id": "xBjx0daye9wR"
      },
      "source": [
        "# Creating Panoramas using OpenCV\n",
        "\n",
        "**Satya Mallick, LearnOpenCV.com**"
      ]
    },
    {
      "cell_type": "code",
      "execution_count": null,
      "metadata": {
        "ExecuteTime": {
          "end_time": "2023-03-29T19:28:05.927519Z",
          "start_time": "2023-03-29T19:28:05.316529Z"
        },
        "id": "y9N3wCiGe9wX"
      },
      "outputs": [],
      "source": [
        "# Import Libraries\n",
        "import os\n",
        "import cv2\n",
        "import math\n",
        "import glob\n",
        "import numpy as np\n",
        "import matplotlib.pyplot as plt\n",
        "\n",
        "from zipfile import ZipFile\n",
        "from urllib.request import urlretrieve\n",
        "\n",
        "%matplotlib inline"
      ]
    },
    {
      "cell_type": "markdown",
      "metadata": {
        "id": "rBbWxZM9e9wk"
      },
      "source": [
        "##  <font style=\"color:black\">Download Assets</font>"
      ]
    },
    {
      "cell_type": "code",
      "execution_count": null,
      "metadata": {
        "ExecuteTime": {
          "end_time": "2023-03-29T19:28:05.942519Z",
          "start_time": "2023-03-29T19:28:05.930520Z"
        },
        "id": "NwhU187me9wm"
      },
      "outputs": [],
      "source": [
        "def download_and_unzip(url, save_path):\n",
        "    print(f\"Downloading and extracting assests....\", end=\"\")\n",
        "\n",
        "    # Downloading zip file using urllib package.\n",
        "    urlretrieve(url, save_path)\n",
        "\n",
        "    try:\n",
        "        # Extracting zip file using the zipfile package.\n",
        "        with ZipFile(save_path) as z:\n",
        "            # Extract ZIP file contents in the same directory.\n",
        "            z.extractall(os.path.split(save_path)[0])\n",
        "\n",
        "        print(\"Done\")\n",
        "\n",
        "    except Exception as e:\n",
        "        print(\"\\nInvalid file.\", e)"
      ]
    },
    {
      "cell_type": "code",
      "execution_count": null,
      "metadata": {
        "ExecuteTime": {
          "end_time": "2023-03-29T19:28:11.823789Z",
          "start_time": "2023-03-29T19:28:05.947523Z"
        },
        "id": "LS7Ow8kLe9wp",
        "outputId": "2b7ad4ff-b3b9-40a4-98d0-3fa4c945901a"
      },
      "outputs": [],
      "source": [
        "URL = r\"https://www.dropbox.com/s/0o5yqql1ynx31bi/opencv_bootcamp_assets_NB9.zip?dl=1\"\n",
        "\n",
        "asset_zip_path = os.path.join(os.getcwd(), \"opencv_bootcamp_assets_NB9.zip\")\n",
        "\n",
        "# Download if assest ZIP does not exists.\n",
        "if not os.path.exists(asset_zip_path):\n",
        "    download_and_unzip(URL, asset_zip_path)"
      ]
    },
    {
      "cell_type": "markdown",
      "metadata": {
        "id": "XjGTIex4e9wr"
      },
      "source": [
        "# Steps for Creating Panoramas\n",
        "\n",
        "1. Find keypoints in all images\n",
        "2. Find pairwise correspondences\n",
        "2. Estimate pairwise Homographies\n",
        "3. Refine Homographies\n",
        "3. Stitch with Blending"
      ]
    },
    {
      "cell_type": "markdown",
      "metadata": {
        "id": "zb_myTL2e9ws"
      },
      "source": [
        "# Steps for Creating Panoramas using OpenCV"
      ]
    },
    {
      "cell_type": "code",
      "execution_count": null,
      "metadata": {
        "ExecuteTime": {
          "end_time": "2023-03-29T19:28:11.886755Z",
          "start_time": "2023-03-29T19:28:11.826772Z"
        },
        "id": "pULYGEuFe9wx"
      },
      "outputs": [],
      "source": [
        "# Read Images\n",
        "\n",
        "imagefiles = glob.glob(f\"boat{os.sep}*\")\n",
        "imagefiles.sort()\n",
        "\n",
        "\n",
        "images = []\n",
        "for filename in imagefiles:\n",
        "    img = cv2.imread(filename)\n",
        "    img = cv2.cvtColor(img, cv2.COLOR_BGR2RGB)\n",
        "    images.append(img)\n",
        "\n",
        "num_images = len(images)"
      ]
    },
    {
      "cell_type": "code",
      "execution_count": null,
      "metadata": {
        "ExecuteTime": {
          "end_time": "2023-03-29T19:28:12.820758Z",
          "start_time": "2023-03-29T19:28:11.888764Z"
        },
        "id": "TMd_hiPYe9wy",
        "outputId": "cdd1ff45-18ac-4e44-eea9-57aac5f02251"
      },
      "outputs": [],
      "source": [
        "# Display Images\n",
        "plt.figure(figsize=[30, 10])\n",
        "num_cols = 3\n",
        "num_rows = math.ceil(num_images / num_cols)\n",
        "for i in range(0, num_images):\n",
        "    plt.subplot(num_rows, num_cols, i + 1)\n",
        "    plt.axis(\"off\")\n",
        "    plt.imshow(images[i])"
      ]
    },
    {
      "cell_type": "markdown",
      "metadata": {
        "id": "YKDWkJi8e9xH"
      },
      "source": [
        "Use the **sticher** class"
      ]
    },
    {
      "cell_type": "code",
      "execution_count": null,
      "metadata": {
        "ExecuteTime": {
          "end_time": "2023-03-29T19:28:16.645927Z",
          "start_time": "2023-03-29T19:28:12.823755Z"
        },
        "id": "aqEyslJBe9z0",
        "outputId": "c27f57ab-a0a9-46d7-b9dd-48be030ae052"
      },
      "outputs": [],
      "source": [
        "# Stitch Images\n",
        "stitcher = cv2.Stitcher_create()\n",
        "status, result = stitcher.stitch(images)\n",
        "\n",
        "if status == 0:\n",
        "    plt.figure(figsize=[30, 10])\n",
        "    plt.imshow(result)"
      ]
    }
  ],
  "metadata": {
    "celltoolbar": "Slideshow",
    "colab": {
      "provenance": []
    },
    "kernelspec": {
      "display_name": "Python 3 (ipykernel)",
      "language": "python",
      "name": "python3"
    },
    "language_info": {
      "codemirror_mode": {
        "name": "ipython",
        "version": 3
      },
      "file_extension": ".py",
      "mimetype": "text/x-python",
      "name": "python",
      "nbconvert_exporter": "python",
      "pygments_lexer": "ipython3",
      "version": "3.10.9"
    },
    "toc": {
      "base_numbering": 1,
      "nav_menu": {},
      "number_sections": false,
      "sideBar": true,
      "skip_h1_title": false,
      "title_cell": "Table of Contents",
      "title_sidebar": "Contents",
      "toc_cell": false,
      "toc_position": {
        "height": "calc(100% - 180px)",
        "left": "10px",
        "top": "150px",
        "width": "159.492px"
      },
      "toc_section_display": true,
      "toc_window_display": false
    },
    "varInspector": {
      "cols": {
        "lenName": 16,
        "lenType": 16,
        "lenVar": 40
      },
      "kernels_config": {
        "python": {
          "delete_cmd_postfix": "",
          "delete_cmd_prefix": "del ",
          "library": "var_list.py",
          "varRefreshCmd": "print(var_dic_list())"
        },
        "r": {
          "delete_cmd_postfix": ") ",
          "delete_cmd_prefix": "rm(",
          "library": "var_list.r",
          "varRefreshCmd": "cat(var_dic_list()) "
        }
      },
      "types_to_exclude": [
        "module",
        "function",
        "builtin_function_or_method",
        "instance",
        "_Feature"
      ],
      "window_display": false
    }
  },
  "nbformat": 4,
  "nbformat_minor": 0
}
